{
  "nbformat": 4,
  "nbformat_minor": 0,
  "metadata": {
    "colab": {
      "provenance": []
    },
    "kernelspec": {
      "name": "python3",
      "display_name": "Python 3"
    },
    "language_info": {
      "name": "python"
    }
  },
  "cells": [
    {
      "cell_type": "markdown",
      "source": [
        "1. imports"
      ],
      "metadata": {
        "id": "d6vpgrxbpTNP"
      }
    },
    {
      "cell_type": "code",
      "execution_count": null,
      "metadata": {
        "id": "FXw-O-tW9pnR"
      },
      "outputs": [],
      "source": [
        "import torch\n",
        "import torch.nn as nn\n",
        "#modules , loss functions\n",
        "import torch.nn.functional as F\n",
        "#activations,functions having no parameters\n",
        "import torch.optim as optim\n",
        "#optimisation algos\n",
        "from torch.utils.data import DataLoader\n",
        "# data sets , gives mini batches\n",
        "from torchvision import transforms , datasets\n",
        "# many datasets"
      ]
    },
    {
      "cell_type": "markdown",
      "source": [
        "2.Create FullyConnected Network"
      ],
      "metadata": {
        "id": "N-rxQCJVp2cC"
      }
    },
    {
      "cell_type": "code",
      "source": [
        "class Nueral_Network(nn.Module):\n",
        "  def __init__(self, inputsize, output_size):\n",
        "    super(Nueral_Network, self).__init__()\n",
        "    self.fc1= nn.Linear(inputsize,50)\n",
        "\n",
        "    self.fc2= nn.Linear(50,output_size)\n",
        "\n",
        "  def forward(self, x):\n",
        "\n",
        "    x=self.fc1(x)\n",
        "\n",
        "    x = F.relu(x)\n",
        "\n",
        "    x = self.fc2(x)\n",
        "\n",
        "    return x\n",
        "\n",
        "\n"
      ],
      "metadata": {
        "id": "FNo9wfDwp7KI"
      },
      "execution_count": null,
      "outputs": []
    },
    {
      "cell_type": "markdown",
      "source": [
        "Set device"
      ],
      "metadata": {
        "id": "fR4ao78tDL6k"
      }
    },
    {
      "cell_type": "code",
      "source": [
        "device = torch.device(\"cuda\" if torch.cuda.is_available() else \"cpu\")\n",
        "device"
      ],
      "metadata": {
        "colab": {
          "base_uri": "https://localhost:8080/"
        },
        "id": "U_PKKtcZDNtJ",
        "outputId": "dacb6819-9d5b-4f22-8923-3133ac772bdc"
      },
      "execution_count": null,
      "outputs": [
        {
          "output_type": "execute_result",
          "data": {
            "text/plain": [
              "device(type='cpu')"
            ]
          },
          "metadata": {},
          "execution_count": 21
        }
      ]
    },
    {
      "cell_type": "markdown",
      "source": [
        "Hyper Parameters"
      ],
      "metadata": {
        "id": "bQkYgkVYDneP"
      }
    },
    {
      "cell_type": "code",
      "source": [
        "input_size=784\n",
        "num_classes=10\n",
        "learning_rate=0.001\n",
        "batch_size=64\n",
        "number_of_epochs=3"
      ],
      "metadata": {
        "id": "7M6VYD_cDpVW"
      },
      "execution_count": null,
      "outputs": []
    },
    {
      "cell_type": "markdown",
      "source": [
        "Load Data"
      ],
      "metadata": {
        "id": "Le1voZNuEX6v"
      }
    },
    {
      "cell_type": "code",
      "source": [
        "train_set = datasets.MNIST(root= 'dataset/',train=True, transform=transforms.ToTensor(), download=True)\n",
        "train_loader = DataLoader(dataset=train_set, batch_size=batch_size,shuffle=True)\n",
        "\n",
        "test_set = datasets.MNIST(root='dataset/', download=True, train=False,transform=transforms.ToTensor())\n",
        "test_loader =DataLoader(dataset=test_set, batch_size=batch_size,shuffle=True)\n",
        "train_loader.batch_size"
      ],
      "metadata": {
        "colab": {
          "base_uri": "https://localhost:8080/"
        },
        "id": "N1I255IlEZT_",
        "outputId": "2a2c1a9a-1c36-4705-80cd-23d811222612"
      },
      "execution_count": null,
      "outputs": [
        {
          "output_type": "execute_result",
          "data": {
            "text/plain": [
              "64"
            ]
          },
          "metadata": {},
          "execution_count": 23
        }
      ]
    },
    {
      "cell_type": "markdown",
      "source": [
        "Intialize the network"
      ],
      "metadata": {
        "id": "IlOCCMvh2QKM"
      }
    },
    {
      "cell_type": "code",
      "source": [
        "model = Nueral_Network(input_size,num_classes).to(device)"
      ],
      "metadata": {
        "id": "8-wsexjgEmcO"
      },
      "execution_count": null,
      "outputs": []
    },
    {
      "cell_type": "markdown",
      "source": [
        "LOss and Optimizer"
      ],
      "metadata": {
        "id": "1UqKzu4J28_h"
      }
    },
    {
      "cell_type": "code",
      "source": [
        "criterion = nn.CrossEntropyLoss()\n",
        "optimizer =optim.Adam(model.parameters(),lr=learning_rate)"
      ],
      "metadata": {
        "id": "lK2N3o812_Ii"
      },
      "execution_count": null,
      "outputs": []
    },
    {
      "cell_type": "markdown",
      "source": [
        "Train the network"
      ],
      "metadata": {
        "id": "60mIrpuZ3sOI"
      }
    },
    {
      "cell_type": "code",
      "source": [
        "for epoch in range(number_of_epochs):\n",
        "  # go to each batch\n",
        "  for batch_index , (data,tragets) in enumerate(train_loader):\n",
        "    # get data to cuda\n",
        "    data = data.to(device)\n",
        "    tragets = tragets.to(device)\n",
        "    data =data.reshape(data.shape[0] , -1)# flatten 1,24,24 to 784\n",
        "    #forward\n",
        "    scores = model(data)\n",
        "    loss =criterion(scores,tragets)\n",
        "    #backward\n",
        "    optimizer.zero_grad()# this is will run for each batch , make zero graduation for each batch\n",
        "    loss.backward() # no need to implement backward propagation\n",
        "\n",
        "    #gradient descent\n",
        "    optimizer.step()\n",
        "\n",
        "\n",
        "\n",
        "\n"
      ],
      "metadata": {
        "id": "gpPBzzeC3ugB"
      },
      "execution_count": null,
      "outputs": []
    },
    {
      "cell_type": "markdown",
      "source": [
        "Check accuracy of our model"
      ],
      "metadata": {
        "id": "YEYUNkYpuE2B"
      }
    },
    {
      "cell_type": "code",
      "source": [
        "def accuracy(loader, model):\n",
        "  if loader.dataset.train:\n",
        "    print(\"***testing on training data*****\")\n",
        "  else:\n",
        "    print(\"***testing on testing data*****\")\n",
        "  num_of_correct=0\n",
        "  num_of_samples=0\n",
        "  model.eval()####eval\n",
        "  with torch.no_grad():\n",
        "    for x, y in loader:\n",
        "      x= x.to(device)\n",
        "      y= y.to(device)\n",
        "      x = x.reshape(x.shape[0], -1)\n",
        "      scores = model(x)\n",
        "      _ , predictions = scores.max(1)# 1 represent dimension (64, 10), takke maximum probability\n",
        "      num_of_correct +=(predictions==y).sum() # y & predictions  is list , make sum of them\n",
        "      num_of_samples+=predictions.size(0)\n",
        "\n",
        "    print(\"accuracy is {}\".format(num_of_correct/num_of_samples))\n",
        "\n",
        "  model.train()\n",
        "\n",
        "accuracy(train_loader,model )\n",
        "accuracy(test_loader,model )\n"
      ],
      "metadata": {
        "colab": {
          "base_uri": "https://localhost:8080/"
        },
        "id": "Z6ypTcSiuHdw",
        "outputId": "5613f8de-05af-4ade-a4ec-dfed0ea35310"
      },
      "execution_count": null,
      "outputs": [
        {
          "output_type": "stream",
          "name": "stdout",
          "text": [
            "***testing on training data*****\n",
            "accuracy is 0.9616833329200745\n",
            "***testing on testing data*****\n",
            "accuracy is 0.9581000208854675\n"
          ]
        }
      ]
    }
  ]
}