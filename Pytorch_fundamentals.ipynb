{
  "nbformat": 4,
  "nbformat_minor": 0,
  "metadata": {
    "colab": {
      "provenance": [],
      "gpuType": "T4"
    },
    "kernelspec": {
      "name": "python3",
      "display_name": "Python 3"
    },
    "language_info": {
      "name": "python"
    },
    "accelerator": "GPU"
  },
  "cells": [
    {
      "cell_type": "markdown",
      "source": [
        "# importing **torch**"
      ],
      "metadata": {
        "id": "b2-s_D3LRAya"
      }
    },
    {
      "cell_type": "code",
      "source": [
        "import torch\n",
        "torch.__version__"
      ],
      "metadata": {
        "colab": {
          "base_uri": "https://localhost:8080/",
          "height": 276
        },
        "id": "X0m_hjIBRDrC",
        "outputId": "3a87a8a7-3a3e-4ba9-e147-aa6486559b83"
      },
      "execution_count": 69,
      "outputs": [
        {
          "output_type": "execute_result",
          "data": {
            "text/plain": [
              "'2.1.0+cu121'"
            ],
            "application/vnd.google.colaboratory.intrinsic+json": {
              "type": "string"
            }
          },
          "metadata": {},
          "execution_count": 69
        }
      ]
    },
    {
      "cell_type": "code",
      "execution_count": 70,
      "metadata": {
        "colab": {
          "base_uri": "https://localhost:8080/"
        },
        "id": "Cu04Wk8mFvQk",
        "outputId": "c4bcacab-65d3-42ec-eaf7-0c69cb1beeb4"
      },
      "outputs": [
        {
          "output_type": "execute_result",
          "data": {
            "text/plain": [
              "(tensor([1., 2., 3., 4., 5.]), [55])"
            ]
          },
          "metadata": {},
          "execution_count": 70
        }
      ],
      "source": [
        "loki_list =[1,2,3,4,5]\n",
        "\n",
        "loki_tensor = torch.tensor(loki_list, dtype =torch.float32)\n",
        "loki_list=[55]\n",
        "loki_tensor, loki_list"
      ]
    },
    {
      "cell_type": "markdown",
      "source": [
        "# Scalars"
      ],
      "metadata": {
        "id": "D0c8P7r4YtjJ"
      }
    },
    {
      "cell_type": "code",
      "source": [
        "scalar = torch.tensor(2)\n",
        "scalar, scalar.ndim , scalar.shape"
      ],
      "metadata": {
        "colab": {
          "base_uri": "https://localhost:8080/"
        },
        "id": "DfIfgyaKQ_D1",
        "outputId": "88617a43-7450-44a1-94f0-e12dbac41a56"
      },
      "execution_count": 71,
      "outputs": [
        {
          "output_type": "execute_result",
          "data": {
            "text/plain": [
              "(tensor(2), 0, torch.Size([]))"
            ]
          },
          "metadata": {},
          "execution_count": 71
        }
      ]
    },
    {
      "cell_type": "markdown",
      "source": [
        "Trnafer learning : one odel learns pattern images of dogs , this training/learning can be passed to other models just like in heritance"
      ],
      "metadata": {
        "id": "74IrIN9zQ_fN"
      }
    },
    {
      "cell_type": "code",
      "source": [
        "vector = torch.tensor([1,2,3], dtype=torch.int64)\n",
        "vector , vector.ndim  , vector.shape\n"
      ],
      "metadata": {
        "colab": {
          "base_uri": "https://localhost:8080/"
        },
        "id": "bfFylXBiXVp_",
        "outputId": "405b4a2f-677c-4879-9a07-8a0225e114a2"
      },
      "execution_count": 72,
      "outputs": [
        {
          "output_type": "execute_result",
          "data": {
            "text/plain": [
              "(tensor([1, 2, 3]), 1, torch.Size([3]))"
            ]
          },
          "metadata": {},
          "execution_count": 72
        }
      ]
    },
    {
      "cell_type": "code",
      "source": [
        "matrix = torch.tensor([[1,2,3], [4,5,6]])\n",
        "matrix , matrix.shape , matrix.ndim"
      ],
      "metadata": {
        "colab": {
          "base_uri": "https://localhost:8080/"
        },
        "id": "-08hBLL0RFYZ",
        "outputId": "ad37e89e-1834-4a28-96bf-0042363efd7e"
      },
      "execution_count": 73,
      "outputs": [
        {
          "output_type": "execute_result",
          "data": {
            "text/plain": [
              "(tensor([[1, 2, 3],\n",
              "         [4, 5, 6]]),\n",
              " torch.Size([2, 3]),\n",
              " 2)"
            ]
          },
          "metadata": {},
          "execution_count": 73
        }
      ]
    },
    {
      "cell_type": "code",
      "source": [
        "TENSORp = torch.tensor([ [[1,2,3],[4,5,6]], [[1,2,3],[4,5,6]]])\n",
        "\n",
        "TENSORp.shape, TENSORp.ndim"
      ],
      "metadata": {
        "colab": {
          "base_uri": "https://localhost:8080/"
        },
        "id": "HdUWomkpRkcS",
        "outputId": "bfce2574-2ee0-4106-d1bb-5feb22912c69"
      },
      "execution_count": 74,
      "outputs": [
        {
          "output_type": "execute_result",
          "data": {
            "text/plain": [
              "(torch.Size([2, 2, 3]), 3)"
            ]
          },
          "metadata": {},
          "execution_count": 74
        }
      ]
    },
    {
      "cell_type": "markdown",
      "source": [
        "## Random tensors"
      ],
      "metadata": {
        "id": "KWXf6DNKJHxb"
      }
    },
    {
      "cell_type": "code",
      "source": [
        "randomtensor = torch.rand(2,2,2)\n",
        "randomtensor\n",
        "#shappe need to give rand function"
      ],
      "metadata": {
        "colab": {
          "base_uri": "https://localhost:8080/"
        },
        "id": "i1D325IPJDeZ",
        "outputId": "5f5a8b44-3bb2-4601-9dc4-7c48d56059b3"
      },
      "execution_count": 75,
      "outputs": [
        {
          "output_type": "execute_result",
          "data": {
            "text/plain": [
              "tensor([[[0.2591, 0.6633],\n",
              "         [0.9679, 0.2049]],\n",
              "\n",
              "        [[0.8966, 0.2362],\n",
              "         [0.6072, 0.6354]]])"
            ]
          },
          "metadata": {},
          "execution_count": 75
        }
      ]
    },
    {
      "cell_type": "code",
      "source": [
        "zeros = torch.zeros(size=(3,3), dtype=torch.int8)\n",
        "zeros"
      ],
      "metadata": {
        "colab": {
          "base_uri": "https://localhost:8080/"
        },
        "id": "_7YZlC1ZJhJu",
        "outputId": "2d234088-a11e-47ef-f02a-1e6c6a893145"
      },
      "execution_count": 76,
      "outputs": [
        {
          "output_type": "execute_result",
          "data": {
            "text/plain": [
              "tensor([[0, 0, 0],\n",
              "        [0, 0, 0],\n",
              "        [0, 0, 0]], dtype=torch.int8)"
            ]
          },
          "metadata": {},
          "execution_count": 76
        }
      ]
    },
    {
      "cell_type": "code",
      "source": [
        "size_tensor = torch.arange(start=0, end=99, step =20)\n",
        "size_tensor"
      ],
      "metadata": {
        "colab": {
          "base_uri": "https://localhost:8080/"
        },
        "id": "hC_i3U3HpKhI",
        "outputId": "85c9eda0-a947-45d5-b692-3a6d14388f1c"
      },
      "execution_count": 77,
      "outputs": [
        {
          "output_type": "execute_result",
          "data": {
            "text/plain": [
              "tensor([ 0, 20, 40, 60, 80])"
            ]
          },
          "metadata": {},
          "execution_count": 77
        }
      ]
    },
    {
      "cell_type": "code",
      "source": [
        "ten_zeros = torch.zeros_like(input=size_tensor)\n",
        "ten_zeros\n",
        "#like will make  tensor of same shape"
      ],
      "metadata": {
        "colab": {
          "base_uri": "https://localhost:8080/"
        },
        "id": "xO-57u-cpKeX",
        "outputId": "75500f01-82d9-4740-840c-6aa896d1da22"
      },
      "execution_count": 78,
      "outputs": [
        {
          "output_type": "execute_result",
          "data": {
            "text/plain": [
              "tensor([0, 0, 0, 0, 0])"
            ]
          },
          "metadata": {},
          "execution_count": 78
        }
      ]
    },
    {
      "cell_type": "code",
      "source": [
        "float_16_tensor = torch.rand(size=(2,2,2), device=\"cpu\")\n",
        "float_16_tensor\n",
        "#default is cpu"
      ],
      "metadata": {
        "colab": {
          "base_uri": "https://localhost:8080/"
        },
        "id": "foMqUQG6pKbh",
        "outputId": "3c5c8d37-e7bf-489d-90b4-41fc644cfed7"
      },
      "execution_count": 79,
      "outputs": [
        {
          "output_type": "execute_result",
          "data": {
            "text/plain": [
              "tensor([[[0.4196, 0.8063],\n",
              "         [0.7045, 0.2521]],\n",
              "\n",
              "        [[0.3269, 0.2070],\n",
              "         [0.9851, 0.9621]]])"
            ]
          },
          "metadata": {},
          "execution_count": 79
        }
      ]
    },
    {
      "cell_type": "code",
      "source": [
        "#errors -> multplication of different dtype can be done this is wrong , shape ,  tensors on different device\n",
        "float_64_tensor =float_16_tensor.type(torch.int32)\n",
        "float_64_tensor"
      ],
      "metadata": {
        "colab": {
          "base_uri": "https://localhost:8080/"
        },
        "id": "3UNITFDGpKYp",
        "outputId": "a7a123b6-bbfe-4dcd-aafb-0f14685e45b7"
      },
      "execution_count": 80,
      "outputs": [
        {
          "output_type": "execute_result",
          "data": {
            "text/plain": [
              "tensor([[[0, 0],\n",
              "         [0, 0]],\n",
              "\n",
              "        [[0, 0],\n",
              "         [0, 0]]], dtype=torch.int32)"
            ]
          },
          "metadata": {},
          "execution_count": 80
        }
      ]
    },
    {
      "cell_type": "code",
      "source": [
        "#random tensors, tensors should be on same devices\n",
        "rand_t = torch.rand(size=(2,2,2))\n",
        "rand_t.device , float_16_tensor.device\n",
        "rand_t*float_16_tensor"
      ],
      "metadata": {
        "colab": {
          "base_uri": "https://localhost:8080/"
        },
        "id": "ktPda5b3pKVk",
        "outputId": "fd6c90cb-85fc-4de3-bc2c-1bfe48e1f34d"
      },
      "execution_count": 81,
      "outputs": [
        {
          "output_type": "execute_result",
          "data": {
            "text/plain": [
              "tensor([[[0.2828, 0.3047],\n",
              "         [0.1555, 0.0636]],\n",
              "\n",
              "        [[0.0796, 0.1965],\n",
              "         [0.9005, 0.1784]]])"
            ]
          },
          "metadata": {},
          "execution_count": 81
        }
      ]
    },
    {
      "cell_type": "code",
      "source": [
        "rand_t +3\n",
        "#element wise operaations with siymbol and scalar vale"
      ],
      "metadata": {
        "colab": {
          "base_uri": "https://localhost:8080/"
        },
        "id": "H9EsWSjzpKR6",
        "outputId": "a7b67713-b7e9-449a-b5b9-6efe2ecfb075"
      },
      "execution_count": 82,
      "outputs": [
        {
          "output_type": "execute_result",
          "data": {
            "text/plain": [
              "tensor([[[3.6740, 3.3779],\n",
              "         [3.2207, 3.2523]],\n",
              "\n",
              "        [[3.2436, 3.9490],\n",
              "         [3.9141, 3.1854]]])"
            ]
          },
          "metadata": {},
          "execution_count": 82
        }
      ]
    },
    {
      "cell_type": "code",
      "source": [
        "#matrix multiplication -> dot product, in cuda data type should be float 32 for mtrix multplication\n",
        "tensor1 = torch.tensor([2,3,4] , device='cpu' , dtype= torch.float32)\n",
        "tensor1*tensor1 #element wise multiplication\n",
        "%time\n",
        "torch.matmul(tensor1 , tensor1)\n",
        "tensor1.device"
      ],
      "metadata": {
        "colab": {
          "base_uri": "https://localhost:8080/"
        },
        "id": "NKNTA8dGpKPZ",
        "outputId": "a1600ee5-b62a-42ba-a719-443e2b75ca76"
      },
      "execution_count": 83,
      "outputs": [
        {
          "output_type": "stream",
          "name": "stdout",
          "text": [
            "CPU times: user 3 µs, sys: 0 ns, total: 3 µs\n",
            "Wall time: 31.5 µs\n"
          ]
        },
        {
          "output_type": "execute_result",
          "data": {
            "text/plain": [
              "device(type='cpu')"
            ]
          },
          "metadata": {},
          "execution_count": 83
        }
      ]
    },
    {
      "cell_type": "code",
      "source": [
        "tensor2=torch.tensor([[11,2,3]]\n",
        "                     )\n",
        "tensor2.T"
      ],
      "metadata": {
        "colab": {
          "base_uri": "https://localhost:8080/"
        },
        "id": "w5J_eAswpKMX",
        "outputId": "1b894f8b-0593-48c2-ed52-7aa368889470"
      },
      "execution_count": 84,
      "outputs": [
        {
          "output_type": "execute_result",
          "data": {
            "text/plain": [
              "tensor([[11],\n",
              "        [ 2],\n",
              "        [ 3]])"
            ]
          },
          "metadata": {},
          "execution_count": 84
        }
      ]
    },
    {
      "cell_type": "code",
      "source": [
        "torch.mean(tensor2.type(torch.float32))\n",
        "#for mean requires data type should be in float 32"
      ],
      "metadata": {
        "colab": {
          "base_uri": "https://localhost:8080/"
        },
        "id": "Urvq15UhpKJh",
        "outputId": "de5bed5c-1705-4a48-9d64-afe35ff5dff2"
      },
      "execution_count": 85,
      "outputs": [
        {
          "output_type": "execute_result",
          "data": {
            "text/plain": [
              "tensor(5.3333)"
            ]
          },
          "metadata": {},
          "execution_count": 85
        }
      ]
    },
    {
      "cell_type": "code",
      "source": [
        "tensor2.argmin()"
      ],
      "metadata": {
        "colab": {
          "base_uri": "https://localhost:8080/"
        },
        "id": "r89Z1ONwpKFz",
        "outputId": "106ad33b-de6e-4e17-c3df-b6e753fcb19c"
      },
      "execution_count": 86,
      "outputs": [
        {
          "output_type": "execute_result",
          "data": {
            "text/plain": [
              "tensor(1)"
            ]
          },
          "metadata": {},
          "execution_count": 86
        }
      ]
    },
    {
      "cell_type": "code",
      "source": [
        "#view\n",
        "#reshape\n",
        "#stacking hstack , vstack\n",
        "#squeeze , unsqueeze\n",
        "#permute"
      ],
      "metadata": {
        "id": "SWiPsFQun8op"
      },
      "execution_count": 87,
      "outputs": []
    },
    {
      "cell_type": "code",
      "source": [
        "tensor3 = torch.rand(size=(2,3,4))\n",
        "tensor3\n",
        "tensor4= tensor3.reshape(8,3)\n",
        "tensor4 , tensor3"
      ],
      "metadata": {
        "colab": {
          "base_uri": "https://localhost:8080/"
        },
        "id": "zSeII2--n8kY",
        "outputId": "ef2b5b19-a29b-4024-c632-2827d5c886e2"
      },
      "execution_count": 88,
      "outputs": [
        {
          "output_type": "execute_result",
          "data": {
            "text/plain": [
              "(tensor([[0.6617, 0.1129, 0.8013],\n",
              "         [0.0583, 0.1154, 0.0770],\n",
              "         [0.1141, 0.4853, 0.1851],\n",
              "         [0.6878, 0.1340, 0.5946],\n",
              "         [0.8820, 0.4827, 0.1136],\n",
              "         [0.5505, 0.7773, 0.8651],\n",
              "         [0.2916, 0.4657, 0.1939],\n",
              "         [0.5519, 0.4536, 0.6531]]),\n",
              " tensor([[[0.6617, 0.1129, 0.8013, 0.0583],\n",
              "          [0.1154, 0.0770, 0.1141, 0.4853],\n",
              "          [0.1851, 0.6878, 0.1340, 0.5946]],\n",
              " \n",
              "         [[0.8820, 0.4827, 0.1136, 0.5505],\n",
              "          [0.7773, 0.8651, 0.2916, 0.4657],\n",
              "          [0.1939, 0.5519, 0.4536, 0.6531]]]))"
            ]
          },
          "metadata": {},
          "execution_count": 88
        }
      ]
    },
    {
      "cell_type": "code",
      "source": [
        "#squeeze, remove all single dimensions  from shape u can see diffrenece\n",
        "tensor4 = torch.rand(1,3,4,2,1,5)\n",
        "tensor5= torch.squeeze(tensor4)\n",
        "tensor4.shape , tensor5.shape\n",
        "tensor6=torch.unsqueeze(tensor5 , dim =-5)\n",
        "tensor6.shape"
      ],
      "metadata": {
        "colab": {
          "base_uri": "https://localhost:8080/"
        },
        "id": "0VGRvmIvn8hI",
        "outputId": "6f607107-efb4-41ec-a428-e7284009a52a"
      },
      "execution_count": 89,
      "outputs": [
        {
          "output_type": "execute_result",
          "data": {
            "text/plain": [
              "torch.Size([1, 3, 4, 2, 5])"
            ]
          },
          "metadata": {},
          "execution_count": 89
        }
      ]
    },
    {
      "cell_type": "code",
      "source": [
        "#permute with specified index === reshape with dimensions\n",
        "x = torch.rand(3,224,224)\n",
        "y = torch.permute(x, (2,0,1))\n",
        "y.shape"
      ],
      "metadata": {
        "colab": {
          "base_uri": "https://localhost:8080/"
        },
        "id": "fv2zheJLn8ct",
        "outputId": "417b21fe-4e13-401a-90ec-b968fc9ce38b"
      },
      "execution_count": 90,
      "outputs": [
        {
          "output_type": "execute_result",
          "data": {
            "text/plain": [
              "torch.Size([224, 3, 224])"
            ]
          },
          "metadata": {},
          "execution_count": 90
        }
      ]
    },
    {
      "cell_type": "code",
      "source": [
        "#numpy is scienctific  computing library\n",
        "import numpy as np\n",
        "npA = np.array([1,2,3])\n",
        "#how to get numpy data tpo torch ??\n",
        "\n",
        "npA_tensor = torch.from_numpy(npA).type(torch.float32)\n",
        "npA_tensor"
      ],
      "metadata": {
        "colab": {
          "base_uri": "https://localhost:8080/"
        },
        "id": "UrB6LU_yn8Xq",
        "outputId": "f669409e-b556-47fc-93e8-c0afa08d9a19"
      },
      "execution_count": 97,
      "outputs": [
        {
          "output_type": "execute_result",
          "data": {
            "text/plain": [
              "tensor([1., 2., 3.])"
            ]
          },
          "metadata": {},
          "execution_count": 97
        }
      ]
    },
    {
      "cell_type": "code",
      "source": [
        "npA[0]=npA[0]+1\n",
        "npA , npA_tensor\n",
        "#tensor not changed"
      ],
      "metadata": {
        "colab": {
          "base_uri": "https://localhost:8080/"
        },
        "id": "Vk39jq8cn8T-",
        "outputId": "b4ebdeb7-0c17-4374-b9ca-9b3d07dd8967"
      },
      "execution_count": 100,
      "outputs": [
        {
          "output_type": "execute_result",
          "data": {
            "text/plain": [
              "(array([4, 2, 3]), tensor([1., 2., 3.]))"
            ]
          },
          "metadata": {},
          "execution_count": 100
        }
      ]
    },
    {
      "cell_type": "code",
      "source": [
        "#tensor to numpy, here memory sharing happening please take care\n",
        "tensor = torch.ones(2,2,3).type(torch.int32)\n",
        "numpy_tensor = tensor.numpy()\n",
        "numpy_tensor\n",
        "numpy_tensor[0]=numpy_tensor[0]*10\n",
        "tensor , numpy_tensor"
      ],
      "metadata": {
        "colab": {
          "base_uri": "https://localhost:8080/"
        },
        "id": "zJrY0KX4n8Qj",
        "outputId": "0d5f1703-2aa1-4867-e9e8-f7bd2ffa9f36"
      },
      "execution_count": 107,
      "outputs": [
        {
          "output_type": "execute_result",
          "data": {
            "text/plain": [
              "(tensor([[[10, 10, 10],\n",
              "          [10, 10, 10]],\n",
              " \n",
              "         [[ 1,  1,  1],\n",
              "          [ 1,  1,  1]]], dtype=torch.int32),\n",
              " array([[[10, 10, 10],\n",
              "         [10, 10, 10]],\n",
              " \n",
              "        [[ 1,  1,  1],\n",
              "         [ 1,  1,  1]]], dtype=int32))"
            ]
          },
          "metadata": {},
          "execution_count": 107
        }
      ]
    },
    {
      "cell_type": "code",
      "source": [
        "torch.rand(3,3,3)\n",
        "#random number duffere when you run again\n",
        "#we need reproducibility , of same data when ypu share this notebook to others\n",
        "RANDOM_SEED =42\n",
        "torch.manual_seed(RANDOM_SEED)\n",
        "TENSORC = torch.rand(3,3)\n",
        "torch.manual_seed(RANDOM_SEED)\n",
        "TENSORD = torch.rand(3,3)\n",
        "TENSORC,TENSORD"
      ],
      "metadata": {
        "colab": {
          "base_uri": "https://localhost:8080/"
        },
        "id": "-igRrxn-n8Mi",
        "outputId": "07e343f9-b3d8-4df4-dd4d-ceafacef7891"
      },
      "execution_count": 114,
      "outputs": [
        {
          "output_type": "execute_result",
          "data": {
            "text/plain": [
              "(tensor([[0.8823, 0.9150, 0.3829],\n",
              "         [0.9593, 0.3904, 0.6009],\n",
              "         [0.2566, 0.7936, 0.9408]]),\n",
              " tensor([[0.8823, 0.9150, 0.3829],\n",
              "         [0.9593, 0.3904, 0.6009],\n",
              "         [0.2566, 0.7936, 0.9408]]))"
            ]
          },
          "metadata": {},
          "execution_count": 114
        }
      ]
    },
    {
      "cell_type": "code",
      "source": [
        "#running pytorch objects on GPU'S\n",
        "#google  colab\n",
        "#cloud computing - GCP ,AWS,AZURE , rent these\n",
        "torch.cuda.is_available()"
      ],
      "metadata": {
        "colab": {
          "base_uri": "https://localhost:8080/"
        },
        "id": "N6TBWFp6n8IY",
        "outputId": "3306765e-df59-4402-8a1a-9dae26ae772c"
      },
      "execution_count": 118,
      "outputs": [
        {
          "output_type": "execute_result",
          "data": {
            "text/plain": [
              "False"
            ]
          },
          "metadata": {},
          "execution_count": 118
        }
      ]
    },
    {
      "cell_type": "code",
      "source": [
        "device='cuda' if torch.cuda.is_available() else 'cpu'\n",
        "device\n",
        "#gpu make computation faster"
      ],
      "metadata": {
        "colab": {
          "base_uri": "https://localhost:8080/",
          "height": 35
        },
        "id": "ZyPQ0Wryn8D8",
        "outputId": "6a83108a-db04-47ac-a7c7-58bab718cfb0"
      },
      "execution_count": 119,
      "outputs": [
        {
          "output_type": "execute_result",
          "data": {
            "text/plain": [
              "'cpu'"
            ],
            "application/vnd.google.colaboratory.intrinsic+json": {
              "type": "string"
            }
          },
          "metadata": {},
          "execution_count": 119
        }
      ]
    },
    {
      "cell_type": "code",
      "source": [],
      "metadata": {
        "id": "ZCozQSiGn8AR"
      },
      "execution_count": 90,
      "outputs": []
    },
    {
      "cell_type": "code",
      "source": [],
      "metadata": {
        "id": "PHkOmwa6n78S"
      },
      "execution_count": 90,
      "outputs": []
    },
    {
      "cell_type": "code",
      "source": [],
      "metadata": {
        "id": "YpYV3aPHn74m"
      },
      "execution_count": 90,
      "outputs": []
    },
    {
      "cell_type": "code",
      "source": [],
      "metadata": {
        "id": "URA6EMD6n70w"
      },
      "execution_count": 90,
      "outputs": []
    },
    {
      "cell_type": "code",
      "source": [],
      "metadata": {
        "id": "ToWBkgW7n7wZ"
      },
      "execution_count": 90,
      "outputs": []
    },
    {
      "cell_type": "code",
      "source": [],
      "metadata": {
        "id": "7pjWU3A1n7sV"
      },
      "execution_count": 90,
      "outputs": []
    },
    {
      "cell_type": "code",
      "source": [],
      "metadata": {
        "id": "tgzv8jcFn7oI"
      },
      "execution_count": 90,
      "outputs": []
    },
    {
      "cell_type": "code",
      "source": [],
      "metadata": {
        "id": "2E9AqPkMn7kI"
      },
      "execution_count": 90,
      "outputs": []
    },
    {
      "cell_type": "code",
      "source": [],
      "metadata": {
        "id": "lAM-pAz1n7fl"
      },
      "execution_count": 90,
      "outputs": []
    },
    {
      "cell_type": "code",
      "source": [],
      "metadata": {
        "id": "2IjQTrx0n7b6"
      },
      "execution_count": 90,
      "outputs": []
    },
    {
      "cell_type": "code",
      "source": [],
      "metadata": {
        "id": "8OBqykBun7YX"
      },
      "execution_count": 90,
      "outputs": []
    },
    {
      "cell_type": "code",
      "source": [],
      "metadata": {
        "id": "5-5WRCA2n7UW"
      },
      "execution_count": 90,
      "outputs": []
    },
    {
      "cell_type": "code",
      "source": [],
      "metadata": {
        "id": "hZy0jngOn7P8"
      },
      "execution_count": 90,
      "outputs": []
    },
    {
      "cell_type": "code",
      "source": [],
      "metadata": {
        "id": "RoMEhtr1n7ND"
      },
      "execution_count": 90,
      "outputs": []
    },
    {
      "cell_type": "code",
      "source": [],
      "metadata": {
        "id": "sLr5IOUYn7Je"
      },
      "execution_count": 90,
      "outputs": []
    },
    {
      "cell_type": "code",
      "source": [],
      "metadata": {
        "id": "xfVCHsMBn7Fw"
      },
      "execution_count": 90,
      "outputs": []
    },
    {
      "cell_type": "code",
      "source": [],
      "metadata": {
        "id": "-ypUqAnppKCf"
      },
      "execution_count": 90,
      "outputs": []
    },
    {
      "cell_type": "code",
      "source": [],
      "metadata": {
        "id": "_UTw8m1upJ_M"
      },
      "execution_count": 90,
      "outputs": []
    },
    {
      "cell_type": "code",
      "source": [],
      "metadata": {
        "id": "S5o-EtMvpJ8O"
      },
      "execution_count": 90,
      "outputs": []
    },
    {
      "cell_type": "code",
      "source": [],
      "metadata": {
        "id": "zNzh0lx-pJ5T"
      },
      "execution_count": 90,
      "outputs": []
    },
    {
      "cell_type": "code",
      "source": [],
      "metadata": {
        "id": "Q6knVPiDpJ2J"
      },
      "execution_count": 90,
      "outputs": []
    },
    {
      "cell_type": "code",
      "source": [],
      "metadata": {
        "id": "DRAAm1NXpJzG"
      },
      "execution_count": 90,
      "outputs": []
    },
    {
      "cell_type": "code",
      "source": [],
      "metadata": {
        "id": "UE6NFtDvpJwG"
      },
      "execution_count": 90,
      "outputs": []
    },
    {
      "cell_type": "code",
      "source": [],
      "metadata": {
        "id": "gmd51iWFpJtY"
      },
      "execution_count": 90,
      "outputs": []
    },
    {
      "cell_type": "code",
      "source": [],
      "metadata": {
        "id": "R_yOY0BBpJqm"
      },
      "execution_count": 90,
      "outputs": []
    },
    {
      "cell_type": "code",
      "source": [],
      "metadata": {
        "id": "4aIa8ummpJni"
      },
      "execution_count": 90,
      "outputs": []
    },
    {
      "cell_type": "code",
      "source": [],
      "metadata": {
        "id": "fe9OxNzPpJkQ"
      },
      "execution_count": 90,
      "outputs": []
    },
    {
      "cell_type": "code",
      "source": [],
      "metadata": {
        "id": "fcu7aizSpJg3"
      },
      "execution_count": 90,
      "outputs": []
    },
    {
      "cell_type": "code",
      "source": [],
      "metadata": {
        "id": "tQwxkXHSpJZ3"
      },
      "execution_count": 90,
      "outputs": []
    },
    {
      "cell_type": "code",
      "source": [],
      "metadata": {
        "id": "hj0WYBjepJMG"
      },
      "execution_count": 90,
      "outputs": []
    }
  ]
}