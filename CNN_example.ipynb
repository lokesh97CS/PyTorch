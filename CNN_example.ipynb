{
  "nbformat": 4,
  "nbformat_minor": 0,
  "metadata": {
    "colab": {
      "provenance": []
    },
    "kernelspec": {
      "name": "python3",
      "display_name": "Python 3"
    },
    "language_info": {
      "name": "python"
    }
  },
  "cells": [
    {
      "cell_type": "code",
      "execution_count": 50,
      "metadata": {
        "id": "12ndVi29CqP4"
      },
      "outputs": [],
      "source": []
    },
    {
      "cell_type": "markdown",
      "source": [
        "1. imports"
      ],
      "metadata": {
        "id": "d6vpgrxbpTNP"
      }
    },
    {
      "cell_type": "code",
      "execution_count": 51,
      "metadata": {
        "id": "FXw-O-tW9pnR"
      },
      "outputs": [],
      "source": [
        "import torch\n",
        "import torch.nn as nn\n",
        "#modules , loss functions\n",
        "import torch.nn.functional as F\n",
        "#activations,functions having no parameters\n",
        "import torch.optim as optim\n",
        "#optimisation algos\n",
        "from torch.utils.data import DataLoader\n",
        "# data sets , gives mini batches\n",
        "from torchvision import transforms , datasets\n",
        "# many datasets"
      ]
    },
    {
      "cell_type": "markdown",
      "source": [
        "2.Create FullyConnected Network"
      ],
      "metadata": {
        "id": "N-rxQCJVp2cC"
      }
    },
    {
      "cell_type": "code",
      "source": [
        "\n",
        "class CNN(nn.Module):\n",
        "  def __init__(self, input_channels=1, num_classes=10):\n",
        "    super(CNN, self).__init__()\n",
        "    self.conv1 = nn.  Conv2d(in_channels=1,out_channels=8, stride=(1,1), padding=(1,1), kernel_size=(3,3) )\n",
        "    self.pool =nn.MaxPool2d(stride=(2,2), kernel_size=(2,2))#7*7 , assuming we are using pool twice\n",
        "    self.conv2 = nn.Conv2d(in_channels=8,out_channels=16, stride=(1,1), padding=(1,1), kernel_size=(3,3) )\n",
        "    self.fc1= nn.Linear(16*7*7,num_classes)\n",
        "\n",
        "  def forward(self, x):\n",
        "    x=F.relu(self.conv1(x))\n",
        "\n",
        "    x = self.pool(x)\n",
        "    x = F.relu(self.conv2(x))\n",
        "    x = self.pool(x)\n",
        "    x = x.reshape(x.shape[0], -1)\n",
        "    x = self.fc1(x)\n",
        "    return x\n",
        "\n",
        "\n",
        "\n"
      ],
      "metadata": {
        "id": "FNo9wfDwp7KI"
      },
      "execution_count": 52,
      "outputs": []
    },
    {
      "cell_type": "markdown",
      "source": [
        "Set device"
      ],
      "metadata": {
        "id": "fR4ao78tDL6k"
      }
    },
    {
      "cell_type": "code",
      "source": [
        "device =(\"cuda\" if torch.cuda.is_available() else \"cpu\")"
      ],
      "metadata": {
        "id": "U_PKKtcZDNtJ"
      },
      "execution_count": 53,
      "outputs": []
    },
    {
      "cell_type": "markdown",
      "source": [
        "Hyper Parameters"
      ],
      "metadata": {
        "id": "bQkYgkVYDneP"
      }
    },
    {
      "cell_type": "code",
      "source": [
        "input_channels=1\n",
        "num_classes=10\n",
        "batch=64\n",
        "learning_rate=0.01\n",
        "epochs=1"
      ],
      "metadata": {
        "id": "7M6VYD_cDpVW"
      },
      "execution_count": 54,
      "outputs": []
    },
    {
      "cell_type": "markdown",
      "source": [
        "Load Data"
      ],
      "metadata": {
        "id": "Le1voZNuEX6v"
      }
    },
    {
      "cell_type": "code",
      "source": [
        "train_set = datasets.MNIST(download=True,train=True,root='dataset/', transform=transforms.ToTensor())\n",
        "train_loader = DataLoader(dataset=train_set,batch_size=batch,shuffle=True)\n",
        "test_set = datasets.MNIST(download=True,train=False,root='dataset/', transform=transforms.ToTensor())\n",
        "test_loader = DataLoader(dataset=test_set,batch_size=batch,shuffle=True)"
      ],
      "metadata": {
        "id": "N1I255IlEZT_"
      },
      "execution_count": 55,
      "outputs": []
    },
    {
      "cell_type": "markdown",
      "source": [
        "Intialize the network"
      ],
      "metadata": {
        "id": "IlOCCMvh2QKM"
      }
    },
    {
      "cell_type": "code",
      "source": [
        "model = CNN().to(device)"
      ],
      "metadata": {
        "id": "8-wsexjgEmcO"
      },
      "execution_count": 56,
      "outputs": []
    },
    {
      "cell_type": "markdown",
      "source": [
        "LOss and Optimizer"
      ],
      "metadata": {
        "id": "1UqKzu4J28_h"
      }
    },
    {
      "cell_type": "code",
      "source": [
        "criterion = nn.CrossEntropyLoss()\n",
        "optimizer =optim.Adam(model.parameters(), lr = learning_rate)"
      ],
      "metadata": {
        "id": "lK2N3o812_Ii"
      },
      "execution_count": 57,
      "outputs": []
    },
    {
      "cell_type": "markdown",
      "source": [
        "Train the network"
      ],
      "metadata": {
        "id": "60mIrpuZ3sOI"
      }
    },
    {
      "cell_type": "code",
      "source": [
        "for epoch in range(epochs):\n",
        "  for batch_index, (data, targets) in enumerate(train_loader):\n",
        "    data.to(device)\n",
        "    targets.to(targets)\n",
        "    scores = model(data)\n",
        "    #calculate loss\n",
        "    loss = criterion(scores, targets)\n",
        "    #calculate bp\n",
        "    optimizer.zero_grad()\n",
        "    loss.backward()\n",
        "    #update\n",
        "    optimizer.step()"
      ],
      "metadata": {
        "id": "gpPBzzeC3ugB"
      },
      "execution_count": 58,
      "outputs": []
    },
    {
      "cell_type": "markdown",
      "source": [
        "Check accuracy of our model"
      ],
      "metadata": {
        "id": "YEYUNkYpuE2B"
      }
    },
    {
      "cell_type": "code",
      "source": [
        "def check_accuracy(loader,model):\n",
        "  if loader.dataset.train:\n",
        "    print('*********training accuracy**********')\n",
        "  else:\n",
        "     print('*********testing accuracy**********')\n",
        "  num_of_correct=0\n",
        "  num_of_samples=0\n",
        "  with torch.no_grad():\n",
        "    for x, y in loader:\n",
        "      x= x.to(device)\n",
        "      y= y.to(device)\n",
        "      scores = model(x)\n",
        "      _ , predictions = scores.max(1)# 1 represent dimension (64, 10), takke maximum probability\n",
        "      num_of_correct +=(predictions==y).sum() # y & predictions  is list , make sum of them\n",
        "      num_of_samples+=predictions.size(0)\n",
        "\n",
        "    print(\"accuracy is {}\".format(num_of_correct/num_of_samples))\n",
        "\n",
        "  model.train()\n",
        "\n",
        "check_accuracy(train_loader,model )\n",
        "check_accuracy(test_loader,model )\n"
      ],
      "metadata": {
        "colab": {
          "base_uri": "https://localhost:8080/"
        },
        "id": "Z6ypTcSiuHdw",
        "outputId": "3ca7706e-64c0-4201-97a0-ccb74991e903"
      },
      "execution_count": 61,
      "outputs": [
        {
          "output_type": "stream",
          "name": "stdout",
          "text": [
            "*********training accuracy**********\n",
            "accuracy is 0.9803333282470703\n",
            "*********testing accuracy**********\n",
            "accuracy is 0.9807999730110168\n"
          ]
        }
      ]
    }
  ]
}